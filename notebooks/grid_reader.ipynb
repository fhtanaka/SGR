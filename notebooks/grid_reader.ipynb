{
 "cells": [
  {
   "cell_type": "code",
   "execution_count": 16,
   "id": "c06646ca-dc23-475b-837f-94be66ad8349",
   "metadata": {},
   "outputs": [],
   "source": [
    "import neat\n",
    "import os\n",
    "import evogym.envs\n",
    "from evogym import is_connected, has_actuator, get_full_connectivity, hashable\n",
    "import numpy as np\n",
    "import dill\n",
    "import pickle as pkl\n",
    "import sys\n",
    "sys.path.append('../')\n",
    "\n",
    "from hyperneat.hyperNEAT import create_phenotype_network\n",
    "from hyperneat.substrate import Substrate\n",
    "from hyperneat.visualize import draw_net\n",
    "from dynamic_env.traverser import DynamicObstacleTraverser\n",
    "from dynamic_env.env_config import EnvConfig\n",
    "\n",
    "\n",
    "import itertools as it\n",
    "import time\n",
    "import imageio\n",
    "\n",
    "from matplotlib import pyplot as plt\n",
    "\n",
    "\n",
    "from sgr.substrates import morph_substrate, control_substrate\n",
    "from sgr.generate_robot import generate_robot, eval_robot_constraint\n",
    "from sgr.evogym_sim import simulate_env\n",
    "from sgr.body_speciation import CustomGenome\n",
    "from grid_world.graph import Graph\n",
    "from grid_world.node import Node\n",
    "from grid_world.tasks import *\n",
    "from copy import deepcopy\n",
    "from PIL import Image"
   ]
  },
  {
   "cell_type": "code",
   "execution_count": 17,
   "id": "20a068ad-162e-4aa7-b0e4-fc138d897224",
   "metadata": {},
   "outputs": [],
   "source": [
    "def get_robot(genome, neat_config, env):\n",
    "    if genome.robot is not None:\n",
    "        robot = genome.robot\n",
    "    else:\n",
    "        cppn = neat.nn.FeedForwardNetwork.create(genome, neat_config)\n",
    "        design_substrate = morph_substrate(5, \"3d\")\n",
    "        design_net = create_phenotype_network(cppn, design_substrate)\n",
    "        robot = generate_robot(design_net, 5)\n",
    "        \n",
    "    if not eval_robot_constraint(robot):\n",
    "        return robot, None\n",
    "    connections = get_full_connectivity(robot)\n",
    "    \n",
    "    env = evogym.envs.gym.make(env, body=robot, connections=connections)\n",
    "    img = env.render(mode='img')\n",
    "    env.close()\n",
    "    return robot, img"
   ]
  },
  {
   "cell_type": "code",
   "execution_count": 18,
   "id": "89a1d596-bde0-46cc-97fa-f047cdb89e59",
   "metadata": {},
   "outputs": [],
   "source": [
    "with open(f\"../island_cp/cp_2000.pkl\", \"rb\") as file:\n",
    "    grid: Graph = pkl.load(file)\n",
    "\n",
    "CustomGenome.robot_func = lambda self, net, config: generate_robot(net, grid.d_nodes[\"0\"].sgr_pop.robot_size)\n",
    "CustomGenome.substrate = morph_substrate(grid.d_nodes[\"0\"].sgr_pop.robot_size, \"3d\")\n",
    "CustomGenome.robot_size = grid.d_nodes[\"0\"].sgr_pop.robot_size\n",
    "CustomGenome.spec_genotype_weight = 1\n",
    "CustomGenome.spec_phenotype_weight = 2"
   ]
  },
  {
   "cell_type": "code",
   "execution_count": 21,
   "id": "c9f96beb-751f-4fb2-8348-55cc5d596668",
   "metadata": {},
   "outputs": [
    {
     "name": "stdout",
     "output_type": "stream",
     "text": [
      "0: Walker-v0\n",
      "4905 0.633449098777077\n"
     ]
    },
    {
     "data": {
      "image/png": "[encoded data removed]",
      "text/plain": [
       "<PIL.Image.Image image mode=RGB size=400x200>"
      ]
     },
     "metadata": {},
     "output_type": "display_data"
    },
    {
     "name": "stdout",
     "output_type": "stream",
     "text": [
      "1: BridgeWalker-v0\n",
      "4936 0.015458755718479322\n"
     ]
    },
    {
     "data": {
      "image/png": "[encoded data removed]",
      "text/plain": [
       "<PIL.Image.Image image mode=RGB size=400x200>"
      ]
     },
     "metadata": {},
     "output_type": "display_data"
    },
    {
     "name": "stdout",
     "output_type": "stream",
     "text": [
      "2: BidirectionalWalker-v0\n",
      "5031 0.026598358798595456\n"
     ]
    },
    {
     "data": {
      "image/png": "[encoded data removed]",
      "text/plain": [
       "<PIL.Image.Image image mode=RGB size=400x200>"
      ]
     },
     "metadata": {},
     "output_type": "display_data"
    },
    {
     "name": "stdout",
     "output_type": "stream",
     "text": [
      "3: UpStepper-v0\n",
      "4872 2.2668331014404552\n"
     ]
    },
    {
     "data": {
      "image/png": "[encoded data removed]",
      "text/plain": [
       "<PIL.Image.Image image mode=RGB size=400x200>"
      ]
     },
     "metadata": {},
     "output_type": "display_data"
    },
    {
     "name": "stdout",
     "output_type": "stream",
     "text": [
      "4: DownStepper-v0\n",
      "4905 0.633449098777077\n"
     ]
    },
    {
     "data": {
      "image/png": "[encoded data removed]",
      "text/plain": [
       "<PIL.Image.Image image mode=RGB size=400x200>"
      ]
     },
     "metadata": {},
     "output_type": "display_data"
    },
    {
     "name": "stdout",
     "output_type": "stream",
     "text": [
      "5: ObstacleTraverser-v0\n",
      "4549 0.7756726280609018\n"
     ]
    },
    {
     "data": {
      "image/png": "[encoded data removed]",
      "text/plain": [
       "<PIL.Image.Image image mode=RGB size=400x200>"
      ]
     },
     "metadata": {},
     "output_type": "display_data"
    },
    {
     "name": "stdout",
     "output_type": "stream",
     "text": [
      "6: ObstacleTraverser-v1\n",
      "5022 -1.8096635301390052e-14\n"
     ]
    },
    {
     "data": {
      "image/png": "[encoded data removed]",
      "text/plain": [
       "<PIL.Image.Image image mode=RGB size=400x200>"
      ]
     },
     "metadata": {},
     "output_type": "display_data"
    },
    {
     "name": "stdout",
     "output_type": "stream",
     "text": [
      "7: Hurdler-v0\n",
      "542 1.041207960150806\n"
     ]
    },
    {
     "data": {
      "image/png": "[encoded data removed]",
      "text/plain": [
       "<PIL.Image.Image image mode=RGB size=400x200>"
      ]
     },
     "metadata": {},
     "output_type": "display_data"
    },
    {
     "name": "stdout",
     "output_type": "stream",
     "text": [
      "8: PlatformJumper-v0\n",
      "4549 0.7756726280609018\n"
     ]
    },
    {
     "data": {
      "image/png": "[encoded data removed]",
      "text/plain": [
       "<PIL.Image.Image image mode=RGB size=400x200>"
      ]
     },
     "metadata": {},
     "output_type": "display_data"
    },
    {
     "name": "stdout",
     "output_type": "stream",
     "text": [
      "9: GapJumper-v0\n",
      "4094 1.1269382809864295\n"
     ]
    },
    {
     "data": {
      "image/png": "[encoded data removed]",
      "text/plain": [
       "<PIL.Image.Image image mode=RGB size=400x200>"
      ]
     },
     "metadata": {},
     "output_type": "display_data"
    },
    {
     "name": "stdout",
     "output_type": "stream",
     "text": [
      "10: UpStepper-v0\n",
      "5055 1.0967334379289675\n"
     ]
    },
    {
     "data": {
      "image/png": "[encoded data removed]",
      "text/plain": [
       "<PIL.Image.Image image mode=RGB size=400x200>"
      ]
     },
     "metadata": {},
     "output_type": "display_data"
    },
    {
     "name": "stdout",
     "output_type": "stream",
     "text": [
      "11: CaveCrawler-v0\n",
      "4628 1.2468319853804541\n"
     ]
    },
    {
     "data": {
      "image/png": "[encoded data removed]",
      "text/plain": [
       "<PIL.Image.Image image mode=RGB size=400x200>"
      ]
     },
     "metadata": {},
     "output_type": "display_data"
    },
    {
     "name": "stdout",
     "output_type": "stream",
     "text": [
      "12: ObstacleTraverser-v0\n",
      "4549 0.7756726280609018\n"
     ]
    },
    {
     "data": {
      "image/png": "[encoded data removed]",
      "text/plain": [
       "<PIL.Image.Image image mode=RGB size=400x200>"
      ]
     },
     "metadata": {},
     "output_type": "display_data"
    },
    {
     "name": "stdout",
     "output_type": "stream",
     "text": [
      "13: ObstacleTraverser-v1\n",
      "3928 4.7738423723462855\n"
     ]
    },
    {
     "data": {
      "image/png": "[encoded data removed]",
      "text/plain": [
       "<PIL.Image.Image image mode=RGB size=400x200>"
      ]
     },
     "metadata": {},
     "output_type": "display_data"
    },
    {
     "name": "stdout",
     "output_type": "stream",
     "text": [
      "14: Walker-v0\n",
      "5083 -4.363176486776865e-14\n"
     ]
    },
    {
     "data": {
      "image/png": "[encoded data removed]",
      "text/plain": [
       "<PIL.Image.Image image mode=RGB size=400x200>"
      ]
     },
     "metadata": {},
     "output_type": "display_data"
    },
    {
     "name": "stdout",
     "output_type": "stream",
     "text": [
      "15: GapJumper-v0\n",
      "4094 1.1269382809864295\n"
     ]
    },
    {
     "data": {
      "image/png": "[encoded data removed]",
      "text/plain": [
       "<PIL.Image.Image image mode=RGB size=400x200>"
      ]
     },
     "metadata": {},
     "output_type": "display_data"
    }
   ],
   "source": [
    "for key, value in grid.d_nodes.items():\n",
    "    print(f\"{key}: {value.task}\")\n",
    "    best_genome = None\n",
    "    best_genome_fit = -100000\n",
    "    for g in value.sgr_pop.pop.population.values():\n",
    "        # print(g.key, g.fitness)\n",
    "        if g.fitness != None and g.fitness > best_genome_fit:\n",
    "            best_genome = g\n",
    "            best_genome_fit = g.fitness\n",
    "    print(best_genome.key, best_genome.fitness)\n",
    "    robot, img = get_robot(best_genome, value.sgr_pop.neat_config, value.task) \n",
    "    if img is not None:\n",
    "        # print(ag.robot)\n",
    "        aux = Image.fromarray(img, 'RGB')\n",
    "        display(aux.resize((aux.size[0]//3, aux.size[1]//3)))"
   ]
  },
  {
   "cell_type": "code",
   "execution_count": null,
   "id": "a34c8d86",
   "metadata": {},
   "outputs": [],
   "source": []
  },
  {
   "cell_type": "code",
   "execution_count": null,
   "id": "ab5f4960-4781-4f02-9d3f-18febcd7c278",
   "metadata": {},
   "outputs": [],
   "source": []
  }
 ],
 "metadata": {
  "kernelspec": {
   "display_name": "Python 3 (ipykernel)",
   "language": "python",
   "name": "python3"
  },
  "language_info": {
   "codemirror_mode": {
    "name": "ipython",
    "version": 3
   },
   "file_extension": ".py",
   "mimetype": "text/x-python",
   "name": "python",
   "nbconvert_exporter": "python",
   "pygments_lexer": "ipython3",
   "version": "3.7.11"
  },
  "vscode": {
   "interpreter": {
    "hash": "0f7ae5e1f764b6d1001ac4575984cf1d763d6c65facd0420927efd507e1dc463"
   }
  }
 },
 "nbformat": 4,
 "nbformat_minor": 5
}
