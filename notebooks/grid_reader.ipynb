{
 "cells": [
  {
   "cell_type": "code",
   "execution_count": 1,
   "id": "599d8bbe",
   "metadata": {},
   "outputs": [],
   "source": [
    "import neat\n",
    "import os\n",
    "import evogym.envs\n",
    "from evogym import is_connected, has_actuator, get_full_connectivity, hashable\n",
    "import numpy as np\n",
    "import dill\n",
    "import pickle as pkl\n",
    "import sys\n",
    "sys.path.append('../')\n",
    "\n",
    "from hyperneat.hyperNEAT import create_phenotype_network\n",
    "from hyperneat.substrate import Substrate\n",
    "from hyperneat.visualize import draw_net\n",
    "from dynamic_env.traverser import DynamicObstacleTraverser\n",
    "from dynamic_env.env_config import EnvConfig\n",
    "\n",
    "\n",
    "import itertools as it\n",
    "import time\n",
    "import imageio\n",
    "\n",
    "from matplotlib import pyplot as plt\n",
    "\n",
    "\n",
    "from sgr.substrates import morph_substrate, control_substrate\n",
    "from sgr.generate_robot import generate_robot, eval_robot_constraint\n",
    "from sgr.evogym_sim import simulate_env\n",
    "from sgr.body_speciation import CustomGenome\n",
    "from grid_world.graph import Graph\n",
    "from grid_world.node import Node\n",
    "from grid_world.tasks import *\n",
    "from copy import deepcopy\n",
    "from PIL import Image\n",
    "from mpl_toolkits.axes_grid1 import ImageGrid"
   ]
  },
  {
   "cell_type": "code",
   "execution_count": 2,
   "id": "a1f02d3b",
   "metadata": {},
   "outputs": [],
   "source": [
    "def get_robot(genome, neat_config, env, genome_type):\n",
    "    if genome.robot is not None:\n",
    "        robot = genome.robot\n",
    "    else:\n",
    "        cppn = neat.nn.FeedForwardNetwork.create(genome, neat_config)\n",
    "        design_substrate = morph_substrate(5, genome_type)\n",
    "        design_net = create_phenotype_network(cppn, design_substrate)\n",
    "        robot = generate_robot(design_net, 5)\n",
    "        \n",
    "    if not eval_robot_constraint(robot):\n",
    "        return robot, None\n",
    "    connections = get_full_connectivity(robot)\n",
    "    \n",
    "    env = evogym.envs.gym.make(env, body=robot, connections=connections)\n",
    "    img = env.render(mode='img')\n",
    "    env.close()\n",
    "    return robot, img"
   ]
  },
  {
   "cell_type": "code",
   "execution_count": 3,
   "id": "1074378d",
   "metadata": {},
   "outputs": [],
   "source": [
    "with open(f\"../island_cp/cp_locomotion_5000.pkl\", \"rb\") as file:\n",
    "    grid: Graph = pkl.load(file)\n",
    "genome_type = grid.params.substrate_type\n",
    "CustomGenome.robot_func = lambda self, net, config: generate_robot(net, grid.d_nodes[\"0\"].sgr_pop.robot_size)\n",
    "CustomGenome.substrate = morph_substrate(grid.d_nodes[\"0\"].sgr_pop.robot_size, genome_type)\n",
    "CustomGenome.robot_size = grid.d_nodes[\"0\"].sgr_pop.robot_size\n",
    "CustomGenome.spec_genotype_weight =  grid.params.spec_genotype_weight\n",
    "CustomGenome.spec_phenotype_weight = grid.params.spec_phenotype_weight"
   ]
  },
  {
   "cell_type": "code",
   "execution_count": 4,
   "id": "63235329",
   "metadata": {},
   "outputs": [
    {
     "name": "stdout",
     "output_type": "stream",
     "text": [
      "Walker-v0 24230 6.3\tUpStepper-v0 24998 2.4\tHurdler-v0 12446 2.76\tWalker-v0 18436 6.8\t\n",
      "Walker-v0 24230 6.3\tUpStepper-v0 25128 1.98\tHurdler-v0 12446 2.76\tWalker-v0 18436 6.8\t\n",
      "Walker-v0 24230 6.3\tUpStepper-v0 25085 0.79\tHurdler-v0 12446 2.76\tWalker-v0 18436 6.8\t\n",
      "Walker-v0 24230 6.3\tUpStepper-v0 19132 0.66\tHurdler-v0 12446 2.76\tWalker-v0 18436 6.8\t\n"
     ]
    },
    {
     "data": {
      "image/png": "[encoded data removed]",
      "text/plain": [
       "<Figure size 1440x1440 with 32 Axes>"
      ]
     },
     "metadata": {
      "needs_background": "light"
     },
     "output_type": "display_data"
    }
   ],
   "source": [
    "n_rows=4\n",
    "n_cols=4\n",
    "\n",
    "fig = plt.figure(1,(20,20))\n",
    "grid_img = ImageGrid(fig, 111,\n",
    "                 nrows_ncols=(n_rows,n_cols),\n",
    "                 axes_pad=0.1,\n",
    "                 share_all=True\n",
    "                 )\n",
    "\n",
    "grid_img[0].get_yaxis().set_ticks([])\n",
    "grid_img[0].get_xaxis().set_ticks([])\n",
    "cont = 0\n",
    "for key, value in grid.d_nodes.items():\n",
    "    best_genome = None\n",
    "    best_genome_fit = -100000\n",
    "    for g in value.sgr_pop.pop.population.values():\n",
    "        # print(g.key, g.fitness)\n",
    "        if g.fitness != None and g.fitness > best_genome_fit:\n",
    "            best_genome = g\n",
    "            best_genome_fit = g.fitness\n",
    "    # best_genome = value.sgr_pop.best_genome\n",
    "    fit = np.round(best_genome_fit, 2)\n",
    "    print(f\"{value.task} {best_genome.key} {fit}\", end=\"\\t\")\n",
    "    if cont%n_cols==n_cols-1:\n",
    "        print()\n",
    "    \n",
    "    robot, img = get_robot(best_genome, value.sgr_pop.neat_config, value.task, genome_type) \n",
    "    if img is not None:\n",
    "        # print(ag.robot)\n",
    "        aux = Image.fromarray(img, 'RGB')\n",
    "        # display(aux.resize((aux.size[0]//3, aux.size[1]//3)))\n",
    "        grid_img[cont].imshow(aux,interpolation='none')\n",
    "    cont += 1"
   ]
  },
  {
   "cell_type": "code",
   "execution_count": null,
   "id": "bece5d8d",
   "metadata": {},
   "outputs": [],
   "source": []
  },
  {
   "cell_type": "code",
   "execution_count": null,
   "id": "34bad25c",
   "metadata": {},
   "outputs": [],
   "source": []
  }
 ],
 "metadata": {
  "kernelspec": {
   "display_name": "Python 3 (ipykernel)",
   "language": "python",
   "name": "python3"
  },
  "language_info": {
   "codemirror_mode": {
    "name": "ipython",
    "version": 3
   },
   "file_extension": ".py",
   "mimetype": "text/x-python",
   "name": "python",
   "nbconvert_exporter": "python",
   "pygments_lexer": "ipython3",
   "version": "3.7.11"
  },
  "vscode": {
   "interpreter": {
    "hash": "0f7ae5e1f764b6d1001ac4575984cf1d763d6c65facd0420927efd507e1dc463"
   }
  }
 },
 "nbformat": 4,
 "nbformat_minor": 5
}
