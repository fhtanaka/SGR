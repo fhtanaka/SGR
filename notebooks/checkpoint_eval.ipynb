{
 "cells": [
  {
   "cell_type": "code",
   "execution_count": 1,
   "id": "e3bde060-7a13-4f42-a567-171989b2db6b",
   "metadata": {},
   "outputs": [],
   "source": [
    "import neat\n",
    "import os\n",
    "import evogym.envs\n",
    "from evogym import is_connected, has_actuator, get_full_connectivity, hashable\n",
    "import numpy as np\n",
    "import dill\n",
    "import pickle as pkl\n",
    "import sys\n",
    "sys.path.append('../')\n",
    "\n",
    "from hyperneat.hyperNEAT import create_phenotype_network\n",
    "from hyperneat.substrate import Substrate\n",
    "from hyperneat.visualize import draw_net\n",
    "from dynamic_env.traverser import DynamicObstacleTraverser\n",
    "from dynamic_env.env_config import EnvConfig\n",
    "\n",
    "\n",
    "import itertools as it\n",
    "import time\n",
    "import imageio\n",
    "\n",
    "from matplotlib import pyplot as plt\n",
    "\n",
    "\n",
    "from sgr.substrates import morph_substrate, control_substrate\n",
    "from sgr.generate_robot import generate_robot, eval_robot_constraint\n",
    "from sgr.evogym_sim import simulate_env\n",
    "from sgr.body_speciation import CustomGenome\n",
    "from copy import deepcopy\n",
    "from PIL import Image"
   ]
  },
  {
   "cell_type": "code",
   "execution_count": 2,
   "id": "1f6bbc87-e0c1-4a88-ae6f-55f54ee7484c",
   "metadata": {},
   "outputs": [],
   "source": [
    "def get_robot(genome, robot_size, neat_config, env_config):\n",
    "    if genome.robot is not None:\n",
    "        robot = genome.robot\n",
    "    else:\n",
    "        cppn = neat.nn.FeedForwardNetwork.create(genome, neat_config)\n",
    "        design_substrate = morph_substrate(robot_size, poet_pop.run_params.substrate_type)\n",
    "        design_net = create_phenotype_network(cppn, design_substrate)\n",
    "        robot = generate_robot(design_net, robot_size)\n",
    "        print(robot)\n",
    "\n",
    "    if not eval_robot_constraint(robot):\n",
    "        return robot, None\n",
    "    connections = get_full_connectivity(robot)\n",
    "\n",
    "    \n",
    "    env = DynamicObstacleTraverser(body=robot, connections=connections, env_config=env_config)\n",
    "    img = env.render(mode='img')\n",
    "    env.close()\n",
    "    return robot, img"
   ]
  },
  {
   "cell_type": "code",
   "execution_count": 29,
   "id": "6d610844-23eb-4247-a189-4feace1f6822",
   "metadata": {},
   "outputs": [],
   "source": [
    "with open(f\"../checkpoints/new_3d_2/cp_200.pkl\", \"rb\") as file:\n",
    "    poet_pop = pkl.load(file)\n",
    "    \n",
    "CustomGenome.robot_func = lambda self, net, config: generate_robot(net, poet_pop.run_params.robot_size)\n",
    "CustomGenome.substrate = morph_substrate(poet_pop.run_params.robot_size, poet_pop.run_params.substrate_type)\n",
    "CustomGenome.robot_size = poet_pop.run_params.robot_size\n",
    "CustomGenome.spec_genotype_weight = poet_pop.run_params.spec_genotype_weight\n",
    "CustomGenome.spec_phenotype_weight = poet_pop.run_params.spec_phenotype_weight"
   ]
  },
  {
   "cell_type": "code",
   "execution_count": 30,
   "id": "19a588dc-e763-424b-97d4-33b8c96a287b",
   "metadata": {},
   "outputs": [],
   "source": [
    "def show_img(ag, min_fit, robot_size, neat_config, env_config):\n",
    "    if ag.fitness is not None and ag.fitness > min_fit:\n",
    "        r, img = get_robot(ag, robot_size, neat_config, env_config)\n",
    "        if img is not None:\n",
    "            print(ag.key, ag.fitness)\n",
    "            # print(ag.robot)\n",
    "            aux = Image.fromarray(img, 'RGB')\n",
    "            print(aux.size)\n",
    "            display(aux.resize((aux.size[0]//3, aux.size[1]//3)))\n",
    "            cppn = neat.nn.FeedForwardNetwork.create(ag, neat_config)\n",
    "            \n",
    "            design_substrate = morph_substrate(robot_size, poet_pop.run_params.substrate_type)\n",
    "            controller_substrate = control_substrate(robot_size, \"dynamic\", ag.robot, poet_pop.run_params.substrate_type)\n",
    "\n",
    "            \n",
    "            design_net = create_phenotype_network(cppn, design_substrate, output_node_idx=0)\n",
    "            controller_net = create_phenotype_network(cppn, controller_substrate, output_node_idx=1)\n",
    "\n",
    "            # print(\"CPPN\")\n",
    "            # display(draw_net(cppn))\n",
    "            # print(\"Controller:\")\n",
    "            # display(draw_net(controller_net))\n",
    "            # print(\"Morphology:\")\n",
    "            # display(draw_net(design_net))\n"
   ]
  },
  {
   "cell_type": "code",
   "execution_count": 31,
   "id": "339a16bd-8400-42e1-9ea4-4bf4d1ba10ee",
   "metadata": {},
   "outputs": [
    {
     "name": "stdout",
     "output_type": "stream",
     "text": [
      "13\n",
      "\n",
      "\n",
      "###################### Pair (env: 0, pop: 20) ########################\n",
      "\n",
      "------------- Champion ----------------\n",
      "8751 7.462083463552908\n",
      "(1200, 600)\n"
     ]
    },
    {
     "data": {
      "image/png": "[encoded data removed]",
      "text/plain": [
       "<PIL.Image.Image image mode=RGB size=400x200>"
      ]
     },
     "metadata": {},
     "output_type": "display_data"
    },
    {
     "name": "stdout",
     "output_type": "stream",
     "text": [
      "\n",
      "\n",
      "###################### Pair (env: 3, pop: 20) ########################\n",
      "\n",
      "------------- Champion ----------------\n",
      "8913 7.530073359126235\n",
      "(1200, 600)\n"
     ]
    },
    {
     "data": {
      "image/png": "[encoded data removed]",
      "text/plain": [
       "<PIL.Image.Image image mode=RGB size=400x200>"
      ]
     },
     "metadata": {},
     "output_type": "display_data"
    },
    {
     "name": "stdout",
     "output_type": "stream",
     "text": [
      "\n",
      "\n",
      "###################### Pair (env: 2, pop: 20) ########################\n",
      "\n",
      "------------- Champion ----------------\n",
      "6476 7.444637098561171\n",
      "(1200, 600)\n"
     ]
    },
    {
     "data": {
      "image/png": "[encoded data removed]",
      "text/plain": [
       "<PIL.Image.Image image mode=RGB size=400x200>"
      ]
     },
     "metadata": {},
     "output_type": "display_data"
    },
    {
     "name": "stdout",
     "output_type": "stream",
     "text": [
      "\n",
      "\n",
      "###################### Pair (env: 20, pop: 73) ########################\n",
      "\n",
      "------------- Champion ----------------\n",
      "707 7.461415273341252\n",
      "(1200, 600)\n"
     ]
    },
    {
     "data": {
      "image/png": "[encoded data removed]",
      "text/plain": [
       "<PIL.Image.Image image mode=RGB size=400x200>"
      ]
     },
     "metadata": {},
     "output_type": "display_data"
    },
    {
     "name": "stdout",
     "output_type": "stream",
     "text": [
      "\n",
      "\n",
      "###################### Pair (env: 25, pop: 78) ########################\n",
      "\n",
      "------------- Champion ----------------\n",
      "1170 4.464193299981766\n",
      "(1200, 600)\n"
     ]
    },
    {
     "data": {
      "image/png": "[encoded data removed]",
      "text/plain": [
       "<PIL.Image.Image image mode=RGB size=400x200>"
      ]
     },
     "metadata": {},
     "output_type": "display_data"
    },
    {
     "name": "stdout",
     "output_type": "stream",
     "text": [
      "\n",
      "\n",
      "###################### Pair (env: 34, pop: 20) ########################\n",
      "\n",
      "------------- Champion ----------------\n",
      "8820 4.0362969946487794\n",
      "(1200, 600)\n"
     ]
    },
    {
     "data": {
      "image/png": "[encoded data removed]",
      "text/plain": [
       "<PIL.Image.Image image mode=RGB size=400x200>"
      ]
     },
     "metadata": {},
     "output_type": "display_data"
    },
    {
     "name": "stdout",
     "output_type": "stream",
     "text": [
      "\n",
      "\n",
      "###################### Pair (env: 23, pop: 73) ########################\n",
      "\n",
      "------------- Champion ----------------\n",
      "707 3.9476115752057086\n",
      "(1200, 600)\n"
     ]
    },
    {
     "data": {
      "image/png": "[encoded data removed]",
      "text/plain": [
       "<PIL.Image.Image image mode=RGB size=400x200>"
      ]
     },
     "metadata": {},
     "output_type": "display_data"
    },
    {
     "name": "stdout",
     "output_type": "stream",
     "text": [
      "\n",
      "\n",
      "###################### Pair (env: 51, pop: 20) ########################\n",
      "\n",
      "------------- Champion ----------------\n",
      "8984 7.532502589969427\n",
      "(1200, 600)\n"
     ]
    },
    {
     "data": {
      "image/png": "[encoded data removed]",
      "text/plain": [
       "<PIL.Image.Image image mode=RGB size=400x200>"
      ]
     },
     "metadata": {},
     "output_type": "display_data"
    },
    {
     "name": "stdout",
     "output_type": "stream",
     "text": [
      "\n",
      "\n",
      "###################### Pair (env: 43, pop: 20) ########################\n",
      "\n",
      "------------- Champion ----------------\n",
      "6476 4.866537278489849\n",
      "(1200, 600)\n"
     ]
    },
    {
     "data": {
      "image/png": "[encoded data removed]",
      "text/plain": [
       "<PIL.Image.Image image mode=RGB size=400x200>"
      ]
     },
     "metadata": {},
     "output_type": "display_data"
    },
    {
     "name": "stdout",
     "output_type": "stream",
     "text": [
      "\n",
      "\n",
      "###################### Pair (env: 53, pop: 73) ########################\n",
      "\n",
      "------------- Champion ----------------\n",
      "707 7.469285364365275\n",
      "(1200, 600)\n"
     ]
    },
    {
     "data": {
      "image/png": "[encoded data removed]",
      "text/plain": [
       "<PIL.Image.Image image mode=RGB size=400x200>"
      ]
     },
     "metadata": {},
     "output_type": "display_data"
    },
    {
     "name": "stdout",
     "output_type": "stream",
     "text": [
      "\n",
      "\n",
      "###################### Pair (env: 77, pop: 20) ########################\n",
      "\n",
      "------------- Champion ----------------\n",
      "9040 7.50883019415224\n",
      "(1200, 600)\n"
     ]
    },
    {
     "data": {
      "image/png": "[encoded data removed]",
      "text/plain": [
       "<PIL.Image.Image image mode=RGB size=400x200>"
      ]
     },
     "metadata": {},
     "output_type": "display_data"
    },
    {
     "name": "stdout",
     "output_type": "stream",
     "text": [
      "\n",
      "\n",
      "###################### Pair (env: 73, pop: 20) ########################\n",
      "\n",
      "------------- Champion ----------------\n",
      "6476 7.442898105367696\n",
      "(1200, 600)\n"
     ]
    },
    {
     "data": {
      "image/png": "[encoded data removed]",
      "text/plain": [
       "<PIL.Image.Image image mode=RGB size=400x200>"
      ]
     },
     "metadata": {},
     "output_type": "display_data"
    },
    {
     "name": "stdout",
     "output_type": "stream",
     "text": [
      "\n",
      "\n",
      "###################### Pair (env: 78, pop: 20) ########################\n",
      "\n",
      "------------- Champion ----------------\n",
      "8831 7.4761775796942045\n",
      "(1200, 600)\n"
     ]
    },
    {
     "data": {
      "image/png": "[encoded data removed]",
      "text/plain": [
       "<PIL.Image.Image image mode=RGB size=400x200>"
      ]
     },
     "metadata": {},
     "output_type": "display_data"
    }
   ],
   "source": [
    "print(len(poet_pop.pairs))\n",
    "for p in poet_pop.pairs:\n",
    "    pop = p.agent_pop\n",
    "    env = p.environment\n",
    "    print(f\"\\n\\n###################### Pair (env: {env.id}, pop: {pop.id}) ########################\\n\")\n",
    "    \n",
    "    # for ag_id, ag in pop.pop.population.items():\n",
    "    #     show_img(ag, 4, pop.robot_size, pop.neat_config, env)\n",
    "    \n",
    "    print(\"------------- Champion ----------------\")\n",
    "    show_img(pop.pop.best_genome, -1, pop.robot_size, pop.neat_config, env)\n"
   ]
  },
  {
   "cell_type": "code",
   "execution_count": 32,
   "id": "1df5073c-f149-4534-ba03-302f683695be",
   "metadata": {},
   "outputs": [],
   "source": [
    "STEPS = 600\n",
    "env_dict = {}\n",
    "ag_dict = {}\n",
    "for p in poet_pop.pairs:\n",
    "    pop = p.agent_pop\n",
    "    env = p.environment\n",
    "    for ag_id, ag in pop.pop.population.items():\n",
    "        ag_dict[ag_id] = (ag, pop)\n",
    "    env_dict[env.id] = env\n",
    "\n"
   ]
  },
  {
   "cell_type": "code",
   "execution_count": 33,
   "id": "1755f4e6-0e1a-476b-90a7-6b58c08a2d7c",
   "metadata": {},
   "outputs": [],
   "source": [
    "def show_exec(ag_id, env_id):\n",
    "    ag, pop = ag_dict[ag_id]\n",
    "    env0 = EnvConfig(0)\n",
    "    env1 = env0.create_child()\n",
    "    env1.mutate_barrier_h(.25)\n",
    "    env2 = env0.create_child()\n",
    "    env2.mutate_barrier_h(.25)\n",
    "    env3 = env1.create_child()\n",
    "    env3.mutate_barrier_h(.25)\n",
    "    env4 = env1.create_child()\n",
    "    env4.mutate_barrier_h(.25)\n",
    "    env5 = env2.create_child()\n",
    "    env5.mutate_barrier_h(.25)\n",
    "    env6 = env2.create_child()\n",
    "    env6.mutate_barrier_h(.25)\n",
    "    print(ag.robot)\n",
    "    reward, done = pop.single_genome_fit(ag, STEPS, \"dynamic\", env4, True, None)\n",
    "    return reward, done"
   ]
  },
  {
   "cell_type": "code",
   "execution_count": 34,
   "id": "1d2ff1a6-bc4d-4cbc-a7de-716ff1e76417",
   "metadata": {},
   "outputs": [
    {
     "name": "stdout",
     "output_type": "stream",
     "text": [
      "[[3 4 4 4 0]\n",
      " [4 4 4 4 0]\n",
      " [4 4 4 4 0]\n",
      " [4 4 4 0 0]\n",
      " [4 4 4 0 0]]\n",
      "4.383473799505808\n"
     ]
    }
   ],
   "source": [
    "r, d = show_exec(8984, 0)\n",
    "print(r)"
   ]
  },
  {
   "cell_type": "code",
   "execution_count": 18,
   "id": "6e19eddc-5a74-4524-a6c6-d003a7342f5d",
   "metadata": {},
   "outputs": [],
   "source": [
    "env0 = EnvConfig(0)\n",
    "env1 = env0.create_child()\n",
    "env1.mutate_barrier_h(.25)\n",
    "env2 = env0.create_child()\n",
    "env2.mutate_barrier_h(.25)\n",
    "env3 = env1.create_child()\n",
    "env3.mutate_barrier_h(.25)\n",
    "env4 = env1.create_child()\n",
    "env4.mutate_barrier_h(.25)\n",
    "env5 = env2.create_child()\n",
    "env5.mutate_barrier_h(.25)\n",
    "env6 = env2.create_child()\n",
    "env6.mutate_barrier_h(.25)"
   ]
  },
  {
   "cell_type": "code",
   "execution_count": 20,
   "id": "4626737a-e747-4dc0-b3b4-1a389e4fb099",
   "metadata": {},
   "outputs": [
    {
     "data": {
      "text/plain": [
       "(-4.617183477186651, False)"
      ]
     },
     "execution_count": 20,
     "metadata": {},
     "output_type": "execute_result"
    }
   ],
   "source": [
    "ag, pop = ag_dict[1653]\n",
    "pop.single_genome_fit(ag, STEPS, \"dynamic\", env6, True, None)"
   ]
  },
  {
   "cell_type": "code",
   "execution_count": null,
   "id": "e59fc6c8-f6cb-4a79-a0b6-e5247aea3aca",
   "metadata": {},
   "outputs": [],
   "source": []
  }
 ],
 "metadata": {
  "kernelspec": {
   "display_name": "Python 3 (ipykernel)",
   "language": "python",
   "name": "python3"
  },
  "language_info": {
   "codemirror_mode": {
    "name": "ipython",
    "version": 3
   },
   "file_extension": ".py",
   "mimetype": "text/x-python",
   "name": "python",
   "nbconvert_exporter": "python",
   "pygments_lexer": "ipython3",
   "version": "3.7.11"
  },
  "vscode": {
   "interpreter": {
    "hash": "0f7ae5e1f764b6d1001ac4575984cf1d763d6c65facd0420927efd507e1dc463"
   }
  }
 },
 "nbformat": 4,
 "nbformat_minor": 5
}
