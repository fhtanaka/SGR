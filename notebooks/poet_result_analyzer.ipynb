{
 "cells": [
  {
   "cell_type": "code",
   "execution_count": 5,
   "id": "2599edbb-c8a6-47bc-99de-341818d8c86a",
   "metadata": {},
   "outputs": [],
   "source": [
    "import neat\n",
    "import os\n",
    "import evogym.envs\n",
    "from evogym import is_connected, has_actuator, get_full_connectivity, hashable\n",
    "import numpy as np\n",
    "import dill\n",
    "import pickle as pkl\n",
    "import sys\n",
    "sys.path.append('../')\n",
    "\n",
    "from hyperneat.hyperNEAT import create_phenotype_network\n",
    "from hyperneat.substrate import Substrate\n",
    "from hyperneat.visualize import draw_net\n",
    "from dynamic_env.traverser import DynamicObstacleTraverser\n",
    "\n",
    "\n",
    "import itertools as it\n",
    "import time\n",
    "import imageio\n",
    "\n",
    "from matplotlib import pyplot as plt\n",
    "\n",
    "\n",
    "from sgr.substrates import morph_substrate, control_substrate\n",
    "from sgr.generate_robot import generate_robot, eval_robot_constraint\n",
    "from sgr.evogym_sim import simulate_env\n",
    "from sgr.body_speciation import CustomGenome\n",
    "from copy import deepcopy\n",
    "\n",
    "import ipywidgets as widgets\n",
    "import pandas as pd\n",
    "import csv\n",
    "import matplotlib.pyplot as plt\n",
    "from IPython.display import display"
   ]
  },
  {
   "cell_type": "code",
   "execution_count": 19,
   "id": "d83f4c04-d241-4276-a324-dd1e5c7316b7",
   "metadata": {},
   "outputs": [
    {
     "data": {
      "application/vnd.jupyter.widget-view+json": {
       "model_id": "8c2238effaa14d5bbfa8758e4e246081",
       "version_major": 2,
       "version_minor": 0
      },
      "text/plain": [
       "Dropdown(description='Env', options=('env_0_results.csv', 'env_15_results.csv', 'env_28_results.csv', 'env_29_…"
      ]
     },
     "metadata": {},
     "output_type": "display_data"
    }
   ],
   "source": [
    "test_name = \"new_3d_3\"\n",
    "dir_path = f\"../checkpoints/{test_name}\"\n",
    "csvs = os.listdir(dir_path)\n",
    "csvs = [f for f in csvs if \"csv\" in f]\n",
    "\n",
    "csvs.sort()\n",
    "csvs_name=widgets.Dropdown(\n",
    "    options=csvs,\n",
    "    description='Env',\n",
    "    disabled=False,\n",
    ")\n",
    "display(csvs_name)"
   ]
  },
  {
   "cell_type": "code",
   "execution_count": 20,
   "id": "70a9c9ec-78ed-4523-b470-c1ff7632c2e3",
   "metadata": {},
   "outputs": [],
   "source": [
    "tests_3d = [\"new_3d_1\",\"new_3d_2\",\"new_3d_3\"]\n",
    "tests_cppn = [\"new_cppn_1\",\"new_cppn_2\",\"new_cppn_3\"]\n",
    "\n",
    "fitnesses = []\n",
    "for test_name in tests_3d:\n",
    "# for test_name in tests_cppn:\n",
    "    dir_path = f\"../checkpoints/{test_name}\"\n",
    "    csvs = os.listdir(dir_path)\n",
    "    csvs = [f for f in csvs if \"csv\" in f]\n",
    "    csvs.sort()\n",
    "    valid_envs = {}\n",
    "    for csv in csvs:\n",
    "        file_name = dir_path + \"/\" + csv\n",
    "        temp_df = pd.read_csv(file_name, sep=';')\n",
    "        if len(temp_df) > 30:\n",
    "            valid_envs[csv] = temp_df\n",
    "    test_avg_fits = []\n",
    "    for g in range(1, 201):\n",
    "        f = 0\n",
    "        qtd = 0\n",
    "        for name in valid_envs:\n",
    "            df = valid_envs[name]            \n",
    "            fit = df.loc[df['global_gen'] == g]\n",
    "            if len(fit[\"best_fit\"] > 0):\n",
    "                f += fit.iloc[0][\"best_fit\"]\n",
    "                qtd += 1\n",
    "        test_avg_fits.append(f/qtd)\n",
    "    fitnesses.append(test_avg_fits)\n"
   ]
  },
  {
   "cell_type": "code",
   "execution_count": 21,
   "id": "6b9ec539-a0fe-4687-be23-1d19843f8ae4",
   "metadata": {},
   "outputs": [
    {
     "ename": "IndexError",
     "evalue": "list index out of range",
     "output_type": "error",
     "traceback": [
      "\u001b[0;31m---------------------------------------------------------------------------\u001b[0m",
      "\u001b[0;31mIndexError\u001b[0m                                Traceback (most recent call last)",
      "\u001b[0;32m/tmp/ipykernel_14738/418290351.py\u001b[0m in \u001b[0;36m<module>\u001b[0;34m\u001b[0m\n\u001b[1;32m     10\u001b[0m \u001b[0;34m\u001b[0m\u001b[0m\n\u001b[1;32m     11\u001b[0m \u001b[0;32mfor\u001b[0m \u001b[0mg\u001b[0m \u001b[0;32min\u001b[0m \u001b[0mrange\u001b[0m\u001b[0;34m(\u001b[0m\u001b[0;36m1\u001b[0m\u001b[0;34m,\u001b[0m \u001b[0;36m206\u001b[0m\u001b[0;34m)\u001b[0m\u001b[0;34m:\u001b[0m\u001b[0;34m\u001b[0m\u001b[0;34m\u001b[0m\u001b[0m\n\u001b[0;32m---> 12\u001b[0;31m     \u001b[0mfs\u001b[0m \u001b[0;34m=\u001b[0m \u001b[0;34m[\u001b[0m\u001b[0mf\u001b[0m\u001b[0;34m[\u001b[0m\u001b[0mg\u001b[0m\u001b[0;34m]\u001b[0m \u001b[0;32mfor\u001b[0m \u001b[0mf\u001b[0m \u001b[0;32min\u001b[0m \u001b[0mfitnesses\u001b[0m\u001b[0;34m]\u001b[0m\u001b[0;34m\u001b[0m\u001b[0;34m\u001b[0m\u001b[0m\n\u001b[0m\u001b[1;32m     13\u001b[0m     \u001b[0mavg_arr\u001b[0m\u001b[0;34m.\u001b[0m\u001b[0mappend\u001b[0m\u001b[0;34m(\u001b[0m\u001b[0mnp\u001b[0m\u001b[0;34m.\u001b[0m\u001b[0maverage\u001b[0m\u001b[0;34m(\u001b[0m\u001b[0mfs\u001b[0m\u001b[0;34m)\u001b[0m\u001b[0;34m)\u001b[0m\u001b[0;34m\u001b[0m\u001b[0;34m\u001b[0m\u001b[0m\n\u001b[1;32m     14\u001b[0m     \u001b[0mmax_arr\u001b[0m\u001b[0;34m.\u001b[0m\u001b[0mappend\u001b[0m\u001b[0;34m(\u001b[0m\u001b[0mmax\u001b[0m\u001b[0;34m(\u001b[0m\u001b[0mfs\u001b[0m\u001b[0;34m)\u001b[0m\u001b[0;34m)\u001b[0m\u001b[0;34m\u001b[0m\u001b[0;34m\u001b[0m\u001b[0m\n",
      "\u001b[0;32m/tmp/ipykernel_14738/418290351.py\u001b[0m in \u001b[0;36m<listcomp>\u001b[0;34m(.0)\u001b[0m\n\u001b[1;32m     10\u001b[0m \u001b[0;34m\u001b[0m\u001b[0m\n\u001b[1;32m     11\u001b[0m \u001b[0;32mfor\u001b[0m \u001b[0mg\u001b[0m \u001b[0;32min\u001b[0m \u001b[0mrange\u001b[0m\u001b[0;34m(\u001b[0m\u001b[0;36m1\u001b[0m\u001b[0;34m,\u001b[0m \u001b[0;36m206\u001b[0m\u001b[0;34m)\u001b[0m\u001b[0;34m:\u001b[0m\u001b[0;34m\u001b[0m\u001b[0;34m\u001b[0m\u001b[0m\n\u001b[0;32m---> 12\u001b[0;31m     \u001b[0mfs\u001b[0m \u001b[0;34m=\u001b[0m \u001b[0;34m[\u001b[0m\u001b[0mf\u001b[0m\u001b[0;34m[\u001b[0m\u001b[0mg\u001b[0m\u001b[0;34m]\u001b[0m \u001b[0;32mfor\u001b[0m \u001b[0mf\u001b[0m \u001b[0;32min\u001b[0m \u001b[0mfitnesses\u001b[0m\u001b[0;34m]\u001b[0m\u001b[0;34m\u001b[0m\u001b[0;34m\u001b[0m\u001b[0m\n\u001b[0m\u001b[1;32m     13\u001b[0m     \u001b[0mavg_arr\u001b[0m\u001b[0;34m.\u001b[0m\u001b[0mappend\u001b[0m\u001b[0;34m(\u001b[0m\u001b[0mnp\u001b[0m\u001b[0;34m.\u001b[0m\u001b[0maverage\u001b[0m\u001b[0;34m(\u001b[0m\u001b[0mfs\u001b[0m\u001b[0;34m)\u001b[0m\u001b[0;34m)\u001b[0m\u001b[0;34m\u001b[0m\u001b[0;34m\u001b[0m\u001b[0m\n\u001b[1;32m     14\u001b[0m     \u001b[0mmax_arr\u001b[0m\u001b[0;34m.\u001b[0m\u001b[0mappend\u001b[0m\u001b[0;34m(\u001b[0m\u001b[0mmax\u001b[0m\u001b[0;34m(\u001b[0m\u001b[0mfs\u001b[0m\u001b[0;34m)\u001b[0m\u001b[0;34m)\u001b[0m\u001b[0;34m\u001b[0m\u001b[0;34m\u001b[0m\u001b[0m\n",
      "\u001b[0;31mIndexError\u001b[0m: list index out of range"
     ]
    }
   ],
   "source": [
    "# print(fitnesses[0])\n",
    "max_arr = []\n",
    "min_arr = []\n",
    "avg_arr = []\n",
    "\n",
    "for fits in fitnesses:\n",
    "    for i in range(5):\n",
    "        if len(fits) < 206:\n",
    "            fits.append(fits[-1])\n",
    "\n",
    "for g in range(1, 206):\n",
    "    fs = [f[g] for f in fitnesses]\n",
    "    avg_arr.append(np.average(fs))\n",
    "    max_arr.append(max(fs))\n",
    "    min_arr.append(min(fs))\n",
    "\n",
    "# for res in zip(fitnesses)\n",
    "\n",
    "plt.figure(figsize=(20,6))\n",
    "gens_arr = [x for x in range(1, 206)]\n",
    "plt.plot(gens_arr, avg_arr, lw =2, label=\"Avg fitness across environments\", color=\"orange\")\n",
    "plt.fill_between(gens_arr, min_arr,max_arr, alpha = 0.15, color=\"orange\")\n",
    "\n",
    "flag = True\n",
    "for i in range(45, 201, 45):\n",
    "    if flag:\n",
    "        plt.axvline(x = i, color = 'r', label = 'Creation of new environments', lw = 1, alpha = 1)\n",
    "        flag = False\n",
    "    plt.axvline(x = i, color = 'r', lw = 1, alpha = 0.5)\n",
    "\n",
    "flag = True\n",
    "for i in range(100, 201, 100):\n",
    "    if flag:\n",
    "        plt.axvline(x = i, color = 'g', label = 'Direct Transfer', lw = 1, alpha = 1)\n",
    "        flag = False\n",
    "    plt.axvline(x = i, color = 'g', lw = 1, alpha = 1)\n",
    "\n",
    "flag = True    \n",
    "for i in range(10, 201, 10):\n",
    "    if flag:\n",
    "        plt.axvline(x = i, color = 'b', label = 'Proposal Transfer', lw = 0.5, alpha = 0.4)\n",
    "        flag = False\n",
    "    plt.axvline(x = i, color = 'b', lw = 0.5, alpha = 0.4)\n",
    "\n",
    "\n",
    "plt.xlabel(\"Generations\", fontsize=16)\n",
    "plt.ylabel(\"Fitness\", fontsize=16)\n",
    "plt.legend(loc=\"lower right\", fontsize=12)\n",
    "plt.title('POET run with 3D substrate', fontsize = 18)\n",
    "plt.show()"
   ]
  },
  {
   "cell_type": "code",
   "execution_count": 37,
   "id": "8c6867b8-3764-4ce6-98e3-0495f06ca1fd",
   "metadata": {},
   "outputs": [
    {
     "name": "stdout",
     "output_type": "stream",
     "text": [
      "../checkpoints/new_3d_3/env_0_results.csv\n",
      "../checkpoints/new_3d_3/env_15_results.csv\n",
      "../checkpoints/new_3d_3/env_28_results.csv\n",
      "../checkpoints/new_3d_3/env_29_results.csv\n",
      "../checkpoints/new_3d_3/env_36_results.csv\n",
      "../checkpoints/new_3d_3/env_44_results.csv\n",
      "../checkpoints/new_3d_3/env_47_results.csv\n",
      "../checkpoints/new_3d_3/env_4_results.csv\n",
      "../checkpoints/new_3d_3/env_51_results.csv\n",
      "../checkpoints/new_3d_3/env_65_results.csv\n",
      "../checkpoints/new_3d_3/env_66_results.csv\n",
      "../checkpoints/new_3d_3/env_71_results.csv\n",
      "../checkpoints/new_3d_3/env_9_results.csv\n"
     ]
    }
   ],
   "source": [
    "test_name = \"new_3d_3\"\n",
    "dir_path = f\"../checkpoints/{test_name}\"\n",
    "csvs = os.listdir(dir_path)\n",
    "csvs = [f for f in csvs if \"csv\" in f]\n",
    "\n",
    "csvs.sort()\n",
    "csvs_name=widgets.Dropdown(\n",
    "    options=csvs,\n",
    "    description='Env',\n",
    "    disabled=False,\n",
    ")\n",
    "valid_envs = {}\n",
    "for csv in csvs:\n",
    "    file_name = dir_path + \"/\" + csv\n",
    "    print(file_name)\n",
    "    temp_df = pd.read_csv(file_name, sep=';')\n",
    "    if len(temp_df) > 30:\n",
    "        valid_envs[csv] = temp_df"
   ]
  },
  {
   "cell_type": "code",
   "execution_count": 46,
   "id": "a2b4db4c-dbcf-4f32-bf7e-4e241785b60a",
   "metadata": {},
   "outputs": [
    {
     "data": {
      "image/png": "[encoded data removed]",
      "text/plain": [
       "<Figure size 1440x432 with 1 Axes>"
      ]
     },
     "metadata": {
      "needs_background": "light"
     },
     "output_type": "display_data"
    },
    {
     "name": "stdout",
     "output_type": "stream",
     "text": [
      "0\n"
     ]
    }
   ],
   "source": [
    "largest_size = 0\n",
    "\n",
    "plt.figure(figsize=(20,6))\n",
    "cont = 0\n",
    "\n",
    "for name in valid_envs:\n",
    "    if cont == 0:\n",
    "        gens = [x for x in valid_envs[name][\"global_gen\"]]\n",
    "        fits = [x for x in valid_envs[name][\"best_fit\"]]\n",
    "        for i in range(10):\n",
    "            gens.append(gens[-1] + 1)\n",
    "            fits.append(fits[-1])\n",
    "        # plt.plot(gens, fits, lw =2, label=\"Environment \" + str(cont), color=\"orange\")\n",
    "        plt.plot(gens, fits, lw =2, label=\"Flat environment\", color=\"orange\")\n",
    "\n",
    "        flag = True    \n",
    "        for i in range(10, 201, 10):\n",
    "            if flag:\n",
    "                plt.axvline(x = i, color = 'b', label = 'Proposal Transfer', lw = 0.5, alpha = 0.4)\n",
    "                flag = False\n",
    "            plt.axvline(x = i, color = 'b', lw = 0.5, alpha = 0.4)\n",
    "\n",
    "        flag = True\n",
    "        for i in range(100, 201, 100):\n",
    "            if flag:\n",
    "                plt.axvline(x = i, color = 'g', label = 'Direct Transfer', lw = 1, alpha = 1)\n",
    "                flag = False\n",
    "            plt.axvline(x = i, color = 'g', lw = 1, alpha = 1)\n",
    "\n",
    "    cont += 1\n",
    "\n",
    "plt.xlabel(\"Generations\", fontsize=16)\n",
    "plt.xticks(np.arange(0, 202, 10))\n",
    "plt.ylabel(\"Fitness\", fontsize=16)\n",
    "plt.legend(loc=\"lower right\", fontsize=12)\n",
    "plt.title('Fitness of flat environment population', fontsize = 18)\n",
    "plt.show()\n",
    "print(largest_size)"
   ]
  },
  {
   "cell_type": "code",
   "execution_count": null,
   "id": "2861e74a-63cd-4897-b47d-a2405dacb0f7",
   "metadata": {},
   "outputs": [],
   "source": []
  }
 ],
 "metadata": {
  "kernelspec": {
   "display_name": "Python 3 (ipykernel)",
   "language": "python",
   "name": "python3"
  },
  "language_info": {
   "codemirror_mode": {
    "name": "ipython",
    "version": 3
   },
   "file_extension": ".py",
   "mimetype": "text/x-python",
   "name": "python",
   "nbconvert_exporter": "python",
   "pygments_lexer": "ipython3",
   "version": "3.7.11"
  }
 },
 "nbformat": 4,
 "nbformat_minor": 5
}
