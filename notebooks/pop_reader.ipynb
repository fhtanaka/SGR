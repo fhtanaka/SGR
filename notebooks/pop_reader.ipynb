{
 "cells": [
  {
   "cell_type": "code",
   "execution_count": 15,
   "id": "1681d6b7-3344-41b4-8cf9-15197eb56572",
   "metadata": {},
   "outputs": [],
   "source": [
    "import neat\n",
    "import os\n",
    "import evogym.envs\n",
    "from evogym import is_connected, has_actuator, get_full_connectivity, hashable\n",
    "import numpy as np\n",
    "from pathos.multiprocessing import ProcessPool\n",
    "import errno\n",
    "import dill\n",
    "import sys\n",
    "sys.path.append('../')\n",
    "\n",
    "import neat\n",
    "from hyperneat.new_hyperNEAT import create_phenotype_network\n",
    "from hyperneat.substrate import Substrate\n",
    "from hyperneat.visualize import draw_net\n",
    "\n",
    "import itertools as it\n",
    "import time\n",
    "import imageio\n",
    "\n",
    "import sgr_main as hyper\n",
    "from matplotlib import pyplot as plt\n"
   ]
  },
  {
   "cell_type": "code",
   "execution_count": 19,
   "id": "1c0e8a27-4be7-471f-95ce-2d8aeaf767d8",
   "metadata": {},
   "outputs": [],
   "source": [
    "def get_robot(genome, params, neat_config):\n",
    "    cppn = neat.nn.FeedForwardNetwork.create(genome, neat_config)\n",
    "\n",
    "    design_substrate = hyper.morph_substrate(params)\n",
    "    design_net = hyper.create_phenotype_network(cppn, design_substrate)\n",
    "\n",
    "    robot = hyper.generate_robot(design_net, params[\"robot_size\"])\n",
    "    if not hyper.eval_genome_constraint(robot):\n",
    "        return robot, None\n",
    "    connections = get_full_connectivity(robot)\n",
    "    env = evogym.envs.gym.make(params[\"env\"], body=robot, connections=connections)\n",
    "    img = env.render(mode='img')\n",
    "    env.close()\n",
    "    return robot, img"
   ]
  },
  {
   "cell_type": "code",
   "execution_count": 20,
   "id": "5384848a-abae-406a-a543-2d0dc1de6f58",
   "metadata": {},
   "outputs": [],
   "source": [
    "ENV = \"Walker-v0\" # env_names = [\"CaveCrawler-v0\", \"UpStepper-v0\", \"ObstacleTraverser-v0\"]\n",
    "STEPS = 500\n",
    "ROBOT_SIZE = 5\n",
    "POP = 64\n",
    "\n",
    "params = {\"robot_size\": ROBOT_SIZE, \"env\": ENV, \"steps\": STEPS, \"pop_size\": POP}\n",
    "\n",
    "neat_config = neat.config.Config(\n",
    "    neat.genome.DefaultGenome, \n",
    "    neat.reproduction.DefaultReproduction, \n",
    "    neat.species.DefaultSpeciesSet, \n",
    "    neat.stagnation.DefaultStagnation, \n",
    "    \"../configs/hyperNEAT_config\"\n",
    ")\n"
   ]
  },
  {
   "cell_type": "code",
   "execution_count": 21,
   "id": "9b2f26e8-abc9-486a-87c2-a0ee427b667d",
   "metadata": {},
   "outputs": [],
   "source": [
    "directory = \"results/walker/\"\n",
    "file = \"run_4_pop.pkl\"\n",
    "with open(f\"../{directory}{file}\", \"rb\") as file:\n",
    "    pop = dill.load(file)\n",
    "    \n",
    "champion = pop.best_genome"
   ]
  },
  {
   "cell_type": "code",
   "execution_count": 22,
   "id": "6be2f00a-641f-429d-aa3d-fd93aa3a69be",
   "metadata": {},
   "outputs": [],
   "source": [
    "# hyper.single_genome_fit(champion, params, neat_config, True)\n",
    "params[\"cpu\"]= 4\n",
    "genomes = [(g.key, g) for g in pop.population.values()]\n",
    "# hyper.fit_func(genomes, neat_config, params)"
   ]
  },
  {
   "cell_type": "code",
   "execution_count": 23,
   "id": "ea04b9c0-f5ea-4829-a6ed-f903f4a61201",
   "metadata": {},
   "outputs": [
    {
     "name": "stdout",
     "output_type": "stream",
     "text": [
      "Specie  6\n"
     ]
    },
    {
     "ename": "AttributeError",
     "evalue": "module 'sgr_main' has no attribute 'morph_substrate'",
     "output_type": "error",
     "traceback": [
      "\u001b[0;31m---------------------------------------------------------------------------\u001b[0m",
      "\u001b[0;31mAttributeError\u001b[0m                            Traceback (most recent call last)",
      "\u001b[0;32m/tmp/ipykernel_135865/2071397669.py\u001b[0m in \u001b[0;36m<module>\u001b[0;34m\u001b[0m\n\u001b[1;32m      9\u001b[0m             \u001b[0;31m#     True\u001b[0m\u001b[0;34m\u001b[0m\u001b[0;34m\u001b[0m\u001b[0;34m\u001b[0m\u001b[0m\n\u001b[1;32m     10\u001b[0m             \u001b[0;31m# )\u001b[0m\u001b[0;34m\u001b[0m\u001b[0;34m\u001b[0m\u001b[0;34m\u001b[0m\u001b[0m\n\u001b[0;32m---> 11\u001b[0;31m             \u001b[0mr\u001b[0m\u001b[0;34m,\u001b[0m \u001b[0mimg\u001b[0m \u001b[0;34m=\u001b[0m \u001b[0mget_robot\u001b[0m\u001b[0;34m(\u001b[0m\u001b[0mg\u001b[0m\u001b[0;34m,\u001b[0m \u001b[0mparams\u001b[0m\u001b[0;34m,\u001b[0m \u001b[0mneat_config\u001b[0m\u001b[0;34m)\u001b[0m\u001b[0;34m\u001b[0m\u001b[0;34m\u001b[0m\u001b[0m\n\u001b[0m\u001b[1;32m     12\u001b[0m             \u001b[0;32mif\u001b[0m \u001b[0mimg\u001b[0m \u001b[0;32mis\u001b[0m \u001b[0;32mnot\u001b[0m \u001b[0;32mNone\u001b[0m\u001b[0;34m:\u001b[0m\u001b[0;34m\u001b[0m\u001b[0;34m\u001b[0m\u001b[0m\n\u001b[1;32m     13\u001b[0m                 \u001b[0mplt\u001b[0m\u001b[0;34m.\u001b[0m\u001b[0mimshow\u001b[0m\u001b[0;34m(\u001b[0m\u001b[0mimg\u001b[0m\u001b[0;34m)\u001b[0m\u001b[0;34m\u001b[0m\u001b[0;34m\u001b[0m\u001b[0m\n",
      "\u001b[0;32m/tmp/ipykernel_135865/2264832184.py\u001b[0m in \u001b[0;36mget_robot\u001b[0;34m(genome, params, neat_config)\u001b[0m\n\u001b[1;32m      2\u001b[0m     \u001b[0mcppn\u001b[0m \u001b[0;34m=\u001b[0m \u001b[0mneat\u001b[0m\u001b[0;34m.\u001b[0m\u001b[0mnn\u001b[0m\u001b[0;34m.\u001b[0m\u001b[0mFeedForwardNetwork\u001b[0m\u001b[0;34m.\u001b[0m\u001b[0mcreate\u001b[0m\u001b[0;34m(\u001b[0m\u001b[0mgenome\u001b[0m\u001b[0;34m,\u001b[0m \u001b[0mneat_config\u001b[0m\u001b[0;34m)\u001b[0m\u001b[0;34m\u001b[0m\u001b[0;34m\u001b[0m\u001b[0m\n\u001b[1;32m      3\u001b[0m \u001b[0;34m\u001b[0m\u001b[0m\n\u001b[0;32m----> 4\u001b[0;31m     \u001b[0mdesign_substrate\u001b[0m \u001b[0;34m=\u001b[0m \u001b[0mhyper\u001b[0m\u001b[0;34m.\u001b[0m\u001b[0mmorph_substrate\u001b[0m\u001b[0;34m(\u001b[0m\u001b[0mparams\u001b[0m\u001b[0;34m)\u001b[0m\u001b[0;34m\u001b[0m\u001b[0;34m\u001b[0m\u001b[0m\n\u001b[0m\u001b[1;32m      5\u001b[0m     \u001b[0mdesign_net\u001b[0m \u001b[0;34m=\u001b[0m \u001b[0mhyper\u001b[0m\u001b[0;34m.\u001b[0m\u001b[0mcreate_phenotype_network\u001b[0m\u001b[0;34m(\u001b[0m\u001b[0mcppn\u001b[0m\u001b[0;34m,\u001b[0m \u001b[0mdesign_substrate\u001b[0m\u001b[0;34m)\u001b[0m\u001b[0;34m\u001b[0m\u001b[0;34m\u001b[0m\u001b[0m\n\u001b[1;32m      6\u001b[0m \u001b[0;34m\u001b[0m\u001b[0m\n",
      "\u001b[0;31mAttributeError\u001b[0m: module 'sgr_main' has no attribute 'morph_substrate'"
     ]
    }
   ],
   "source": [
    "for k, v in pop.species.species.items():\n",
    "    print(\"Specie \", k)\n",
    "    for g in v.members.values():\n",
    "        if g.fitness != None:\n",
    "            # hyper.single_genome_fit(\n",
    "            #     g, \n",
    "            #     params, \n",
    "            #     neat_config, \n",
    "            #     True\n",
    "            # )\n",
    "            r, img = get_robot(g, params, neat_config)\n",
    "            if img is not None:\n",
    "                plt.imshow(img)\n",
    "                plt.show()\n"
   ]
  },
  {
   "cell_type": "code",
   "execution_count": null,
   "id": "7f56fc27-1726-4125-a671-5441eb16ed93",
   "metadata": {},
   "outputs": [],
   "source": [
    "hyper.single_genome_fit(champion, params, neat_config, True)"
   ]
  },
  {
   "cell_type": "code",
   "execution_count": null,
   "id": "facaf642",
   "metadata": {},
   "outputs": [],
   "source": []
  }
 ],
 "metadata": {
  "kernelspec": {
   "display_name": "Python 3 (ipykernel)",
   "language": "python",
   "name": "python3"
  },
  "language_info": {
   "codemirror_mode": {
    "name": "ipython",
    "version": 3
   },
   "file_extension": ".py",
   "mimetype": "text/x-python",
   "name": "python",
   "nbconvert_exporter": "python",
   "pygments_lexer": "ipython3",
   "version": "3.7.11"
  }
 },
 "nbformat": 4,
 "nbformat_minor": 5
}
