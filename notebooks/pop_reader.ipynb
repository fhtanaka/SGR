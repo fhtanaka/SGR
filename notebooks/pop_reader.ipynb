{
 "cells": [
  {
   "cell_type": "code",
   "execution_count": 39,
   "id": "1681d6b7-3344-41b4-8cf9-15197eb56572",
   "metadata": {},
   "outputs": [],
   "source": [
    "import neat\n",
    "import os\n",
    "import evogym.envs\n",
    "from evogym import is_connected, has_actuator, get_full_connectivity, hashable\n",
    "import numpy as np\n",
    "from pathos.multiprocessing import ProcessPool\n",
    "import errno\n",
    "import dill\n",
    "import sys\n",
    "sys.path.append('../')\n",
    "\n",
    "import neat\n",
    "from hyperneat.hyperNEAT import create_phenotype_network\n",
    "from hyperneat.substrate import Substrate\n",
    "from hyperneat.visualize import draw_net\n",
    "from dynamic_env.traverser import DynamicObstacleTraverser\n",
    "\n",
    "import itertools as it\n",
    "import time\n",
    "import imageio\n",
    "\n",
    "import sgr_main as sgr\n",
    "from matplotlib import pyplot as plt\n",
    "\n",
    "\n",
    "from sgr.substrates import morph_substrate, control_substrate\n",
    "from sgr.generate_robot import generate_robot\n",
    "from sgr.generate_robot import eval_robot_constraint\n",
    "\n",
    "from sgr.evogym_sim import simulate_env\n",
    "from sgr.body_speciation import CustomGenome\n"
   ]
  },
  {
   "cell_type": "code",
   "execution_count": 31,
   "id": "5384848a-abae-406a-a543-2d0dc1de6f58",
   "metadata": {},
   "outputs": [
    {
     "name": "stdout",
     "output_type": "stream",
     "text": [
      "9.253902323200013\n"
     ]
    }
   ],
   "source": [
    "ENV = \"Climber-v0\" # env_names = [\"CaveCrawler-v0\", \"UpStepper-v0\", \"ObstacleTraverser-v1\"]\n",
    "STEPS = 600\n",
    "ROBOT_SIZE = 5\n",
    "POP = 128\n",
    "\n",
    "# directory = \"results/\" + ENV\n",
    "directory = \"checkpoints/\"\n",
    "\n",
    "file = \"climber_pop_gen_19.pkl\"\n",
    "params = {\"robot_size\": ROBOT_SIZE, \"env\": ENV, \"steps\": STEPS, \"pop_size\": POP, \"robot_substrate\": \"3d\"}\n",
    "\n",
    "CustomGenome.params = params\n",
    "CustomGenome.robot_func = lambda self, net, config: generate_robot(net, params[\"robot_size\"])\n",
    "CustomGenome.substrate = morph_substrate(params[\"robot_size\"], params[\"robot_substrate\"])\n",
    "CustomGenome.robot_size = params[\"robot_size\"]\n",
    "CustomGenome.spec_genotype_weight = 1\n",
    "CustomGenome.spec_phenotype_weight = 2\n",
    "\n",
    "neat_config = neat.config.Config(\n",
    "    CustomGenome,\n",
    "    neat.reproduction.DefaultReproduction, \n",
    "    neat.species.DefaultSpeciesSet, \n",
    "    neat.stagnation.DefaultStagnation, \n",
    "    \"../neat_configs/hyperNEAT.cfg\"\n",
    ")\n",
    "\n",
    "input_size = 4*2 + 1 # two coordinates plus the bias\n",
    "neat_config.genome_config.num_inputs = input_size\n",
    "neat_config.genome_config.input_keys = [-1*i for i in range(1, input_size+1)]\n",
    "neat_config.genome_config.num_outputs = 1\n",
    "neat_config.genome_config.output_keys = [0]\n",
    "\n",
    "with open(f\"../{directory}/{file}\", \"rb\") as file:\n",
    "    pop = dill.load(file)\n",
    "champion = pop.best_genome\n",
    "print(champion.fitness)"
   ]
  },
  {
   "cell_type": "code",
   "execution_count": 50,
   "id": "186a9270-c46d-4fb3-bcd9-9015cf58eff5",
   "metadata": {},
   "outputs": [],
   "source": [
    "def get_robot(genome, params, neat_config):\n",
    "    cppn = neat.nn.FeedForwardNetwork.create(genome, neat_config)\n",
    "    design_substrate = morph_substrate(params[\"robot_size\"], params[\"robot_substrate\"])\n",
    "    design_net = create_phenotype_network(cppn, design_substrate)\n",
    "\n",
    "    robot = generate_robot(design_net, params[\"robot_size\"], params[\"robot_substrate\"])\n",
    "    print(robot)\n",
    "    if not eval_robot_constraint(robot):\n",
    "        return robot, None\n",
    "    connections = get_full_connectivity(robot)\n",
    "    if params[\"env\"] == \"dynamic\":\n",
    "        env = DynamicObstacleTraverser(body=robot, connections=connections)\n",
    "    else:\n",
    "        env = evogym.envs.gym.make(params[\"env\"], body=robot, connections=connections)\n",
    "    img = env.render(mode='img')\n",
    "    env.close()\n",
    "    return robot, img"
   ]
  },
  {
   "cell_type": "code",
   "execution_count": 51,
   "id": "ea04b9c0-f5ea-4829-a6ed-f903f4a61201",
   "metadata": {},
   "outputs": [
    {
     "name": "stdout",
     "output_type": "stream",
     "text": [
      "9.253902323200013\n",
      "[[0 0 0 0 0]\n",
      " [0 0 0 0 0]\n",
      " [0 0 0 0 0]\n",
      " [0 0 0 0 0]\n",
      " [0 0 0 0 0]]\n"
     ]
    }
   ],
   "source": [
    "for k, v in pop.species.species.items():\n",
    "    # print(\"!!!!!!!!!!!!!!!!!!!!!!!!!!!!!!!!!!!!!! Specie \", k, \"!!!!!!!!!!!!!!!!!!!!!!!!!!!!!!!!!!!!!!!!!!!!!!!!!\")\n",
    "    \n",
    "    for g in v.members.values():\n",
    "        if g.fitness != None and g.fitness >4:\n",
    "            \n",
    "            print(g.fitness)\n",
    "            r, img = get_robot(g, params, neat_config)\n",
    "            if img is not None:\n",
    "                print(r)\n",
    "                print(g.key, g.fitness)\n",
    "                plt.imshow(img)\n",
    "                plt.show()\n",
    "                net = neat.nn.FeedForwardNetwork.create(g, neat_config)\n",
    "                display(draw_net(net))"
   ]
  },
  {
   "cell_type": "code",
   "execution_count": 42,
   "id": "7f56fc27-1726-4125-a671-5441eb16ed93",
   "metadata": {},
   "outputs": [
    {
     "ename": "AttributeError",
     "evalue": "module 'sgr_main' has no attribute 'single_genome_fit'",
     "output_type": "error",
     "traceback": [
      "\u001b[0;31m---------------------------------------------------------------------------\u001b[0m",
      "\u001b[0;31mAttributeError\u001b[0m                            Traceback (most recent call last)",
      "\u001b[0;32m/tmp/ipykernel_16761/284352294.py\u001b[0m in \u001b[0;36m<module>\u001b[0;34m\u001b[0m\n\u001b[1;32m      2\u001b[0m \u001b[0;31m# g = pop.population[14774]\u001b[0m\u001b[0;34m\u001b[0m\u001b[0;34m\u001b[0m\u001b[0;34m\u001b[0m\u001b[0m\n\u001b[1;32m      3\u001b[0m \u001b[0mparams\u001b[0m\u001b[0;34m[\u001b[0m\u001b[0;34m\"save_to\"\u001b[0m\u001b[0;34m]\u001b[0m \u001b[0;34m=\u001b[0m \u001b[0;34m\"walker\"\u001b[0m\u001b[0;34m\u001b[0m\u001b[0;34m\u001b[0m\u001b[0m\n\u001b[0;32m----> 4\u001b[0;31m \u001b[0msgr\u001b[0m\u001b[0;34m.\u001b[0m\u001b[0msingle_genome_fit\u001b[0m\u001b[0;34m(\u001b[0m\u001b[0mg\u001b[0m\u001b[0;34m,\u001b[0m \u001b[0mparams\u001b[0m\u001b[0;34m,\u001b[0m \u001b[0mneat_config\u001b[0m\u001b[0;34m,\u001b[0m \u001b[0;32mTrue\u001b[0m\u001b[0;34m,\u001b[0m \u001b[0;32mFalse\u001b[0m\u001b[0;34m)\u001b[0m\u001b[0;34m\u001b[0m\u001b[0;34m\u001b[0m\u001b[0m\n\u001b[0m\u001b[1;32m      5\u001b[0m \u001b[0;31m# sgr.single_genome_fit(g, params, neat_config, False, True)\u001b[0m\u001b[0;34m\u001b[0m\u001b[0;34m\u001b[0m\u001b[0;34m\u001b[0m\u001b[0m\n",
      "\u001b[0;31mAttributeError\u001b[0m: module 'sgr_main' has no attribute 'single_genome_fit'"
     ]
    }
   ],
   "source": [
    "g = pop.best_genome\n",
    "# g = pop.population[14774]\n",
    "params[\"save_to\"] = \"walker\"\n",
    "sgr.single_genome_fit(g, params, neat_config, True, False)\n",
    "# sgr.single_genome_fit(g, params, neat_config, False, True)"
   ]
  },
  {
   "cell_type": "code",
   "execution_count": 6,
   "id": "ad53bf4e",
   "metadata": {},
   "outputs": [
    {
     "ename": "KeyError",
     "evalue": "12892",
     "output_type": "error",
     "traceback": [
      "\u001b[0;31m---------------------------------------------------------------------------\u001b[0m",
      "\u001b[0;31mKeyError\u001b[0m                                  Traceback (most recent call last)",
      "\u001b[0;32m/tmp/ipykernel_31841/4245848747.py\u001b[0m in \u001b[0;36m<module>\u001b[0;34m\u001b[0m\n\u001b[0;32m----> 1\u001b[0;31m \u001b[0mbase\u001b[0m \u001b[0;34m=\u001b[0m \u001b[0mpop\u001b[0m\u001b[0;34m.\u001b[0m\u001b[0mpopulation\u001b[0m\u001b[0;34m[\u001b[0m\u001b[0;36m12892\u001b[0m\u001b[0;34m]\u001b[0m\u001b[0;34m\u001b[0m\u001b[0;34m\u001b[0m\u001b[0m\n\u001b[0m\u001b[1;32m      2\u001b[0m \u001b[0mr2\u001b[0m \u001b[0;34m=\u001b[0m \u001b[0mpop\u001b[0m\u001b[0;34m.\u001b[0m\u001b[0mpopulation\u001b[0m\u001b[0;34m[\u001b[0m\u001b[0;36m14520\u001b[0m\u001b[0;34m]\u001b[0m\u001b[0;34m\u001b[0m\u001b[0;34m\u001b[0m\u001b[0m\n\u001b[1;32m      3\u001b[0m \u001b[0;34m\u001b[0m\u001b[0m\n\u001b[1;32m      4\u001b[0m \u001b[0m_\u001b[0m\u001b[0;34m,\u001b[0m \u001b[0mimg\u001b[0m \u001b[0;34m=\u001b[0m \u001b[0mget_robot\u001b[0m\u001b[0;34m(\u001b[0m\u001b[0mbase\u001b[0m\u001b[0;34m,\u001b[0m \u001b[0mparams\u001b[0m\u001b[0;34m,\u001b[0m \u001b[0mneat_config\u001b[0m\u001b[0;34m)\u001b[0m\u001b[0;34m\u001b[0m\u001b[0;34m\u001b[0m\u001b[0m\n\u001b[1;32m      5\u001b[0m \u001b[0mplt\u001b[0m\u001b[0;34m.\u001b[0m\u001b[0mimshow\u001b[0m\u001b[0;34m(\u001b[0m\u001b[0mimg\u001b[0m\u001b[0;34m)\u001b[0m\u001b[0;34m\u001b[0m\u001b[0;34m\u001b[0m\u001b[0m\n",
      "\u001b[0;31mKeyError\u001b[0m: 12892"
     ]
    }
   ],
   "source": [
    "base = pop.population[12892]\n",
    "r2 = pop.population[14520]\n",
    "\n",
    "_, img = get_robot(base, params, neat_config)\n",
    "plt.imshow(img)\n",
    "plt.show()\n",
    "net = neat.nn.FeedForwardNetwork.create(base, neat_config)\n",
    "display(draw_net(net))\n",
    "\n",
    "_, img = get_robot(r2, params, neat_config)\n",
    "plt.imshow(img)\n",
    "plt.show()\n",
    "net = neat.nn.FeedForwardNetwork.create(r2, neat_config)\n",
    "display(draw_net(net))\n",
    "\n",
    "\n",
    "neat_config.compatibility_disjoint_coefficient = 1\n",
    "neat_config.compatibility_weight_coefficient = .6\n",
    "\n",
    "base.distance = f\n",
    "print(base.distance(base, r2, neat_config))\n",
    "\n",
    "\n",
    "print()\n",
    "\n",
    "base.distance =  neat.DefaultGenome.distance\n",
    "print(base.distance(base, r2, neat_config))\n"
   ]
  },
  {
   "cell_type": "code",
   "execution_count": null,
   "id": "94444087-34d3-4cb8-a601-ac2fc1814491",
   "metadata": {},
   "outputs": [],
   "source": []
  }
 ],
 "metadata": {
  "kernelspec": {
   "display_name": "Python 3 (ipykernel)",
   "language": "python",
   "name": "python3"
  },
  "language_info": {
   "codemirror_mode": {
    "name": "ipython",
    "version": 3
   },
   "file_extension": ".py",
   "mimetype": "text/x-python",
   "name": "python",
   "nbconvert_exporter": "python",
   "pygments_lexer": "ipython3",
   "version": "3.7.11"
  }
 },
 "nbformat": 4,
 "nbformat_minor": 5
}
